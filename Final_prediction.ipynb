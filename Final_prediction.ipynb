{
 "cells": [
  {
   "cell_type": "markdown",
   "metadata": {},
   "source": [
    "## In this notebook, we will test the models that take a new input and predict/classify the disease"
   ]
  },
  {
   "cell_type": "code",
   "execution_count": 2,
   "metadata": {},
   "outputs": [],
   "source": [
    "import pandas as pd\n",
    "from sklearn.feature_extraction.text import CountVectorizer\n",
    "from sklearn.feature_extraction.text import TfidfVectorizer\n",
    "from sklearn.decomposition import TruncatedSVD\n",
    "from nltk.tokenize import word_tokenize\n",
    "from sklearn.linear_model import LogisticRegression\n",
    "import re\n",
    "import spacy\n",
    "import numpy \n",
    "from numpy import dot\n",
    "from numpy.linalg import norm\n",
    "nlp = spacy.load('en_core_web_sm')\n",
    "import pickle "
   ]
  },
  {
   "cell_type": "markdown",
   "metadata": {},
   "source": [
    "### Read the Data & pickle files"
   ]
  },
  {
   "cell_type": "code",
   "execution_count": 4,
   "metadata": {},
   "outputs": [],
   "source": [
    "# reading the stop words list with pickle\n",
    "with open ('stop_words.ob', 'rb') as fp:\n",
    "    domain_stop_word = pickle.load(fp)"
   ]
  },
  {
   "cell_type": "code",
   "execution_count": 5,
   "metadata": {},
   "outputs": [],
   "source": [
    "file_path = \"diseases_with_description.csv\"\n",
    "all_chapters = pd.read_csv(file_path)"
   ]
  },
  {
   "cell_type": "markdown",
   "metadata": {},
   "source": [
    "### Word Embedding"
   ]
  },
  {
   "cell_type": "code",
   "execution_count": 7,
   "metadata": {},
   "outputs": [],
   "source": [
    "cv = CountVectorizer(stop_words=\"english\")\n",
    "cv_tfidf = TfidfVectorizer(stop_words=\"english\")\n",
    "\n",
    "X = cv.fit_transform(list(all_chapters.loc[:, 'Description' ]))\n",
    "X_tfidf = cv_tfidf.fit_transform(list(all_chapters.loc[:, 'Description' ]))\n",
    "\n",
    "df_cv = pd.DataFrame(X.toarray() , columns=cv.get_feature_names_out())\n",
    "df_tfidf = pd.DataFrame(X_tfidf.toarray() , columns=cv_tfidf.get_feature_names_out())"
   ]
  },
  {
   "cell_type": "markdown",
   "metadata": {},
   "source": [
    "### First-Step: Cosine Similarity"
   ]
  },
  {
   "cell_type": "code",
   "execution_count": 9,
   "metadata": {},
   "outputs": [
    {
     "name": "stdout",
     "output_type": "stream",
     "text": [
      "This is chpter number : 0 \n",
      "Cosin cv :    0.18832944617230332 \n",
      "Cosin TFIDF : 0.19105642120034919 \n",
      "This is chpter number : 1 \n",
      "Cosin cv :    0.03128056235449272 \n",
      "Cosin TFIDF : 0.0357145598197733 \n",
      "This is chpter number : 2 \n",
      "Cosin cv :    0.06256112470898544 \n",
      "Cosin TFIDF : 0.040389095636997295 \n"
     ]
    }
   ],
   "source": [
    "cosine = lambda v1 , v2 : dot(v1 , v2) / (norm(v1) * norm(v2))\n",
    "\n",
    "new_text = [\"Severe chest pain radiating to the left arm, rapid heartbeat, and shortness of breath. The patient also reports dizziness and fainting spells. Tests reveal arrhythmia, aortic valve stenosis, and elevated troponin levels, indicating myocardial infarction. Leg swelling suggests possible heart failure.\" \n",
    "           ]\n",
    "new_text_cv = cv.transform(new_text).toarray()[0]\n",
    "new_text_tfidf = cv_tfidf.transform(new_text).toarray()[0]\n",
    "\n",
    "for chpter_number in range(int(all_chapters.shape[0])):\n",
    "    print(f\"This is chpter number : {chpter_number} \")\n",
    "    print(f\"Cosin cv :    { cosine( df_cv.iloc[chpter_number]  , new_text_cv )} \")\n",
    "    print(f\"Cosin TFIDF : { cosine( df_tfidf.iloc[chpter_number]  , new_text_tfidf) } \")\n"
   ]
  },
  {
   "cell_type": "markdown",
   "metadata": {},
   "source": [
    "As we can see from the previous output, we test sentences **(Severe chest pain radiating to the left arm, rapid heartbeat, and shortness of breath. The patient also reports dizziness and fainting spells. Tests reveal arrhythmia, aortic valve stenosis, and elevated troponin levels, indicating myocardial infarction. Leg swelling suggests possible heart failure.)** which is a symptoms of disease.**\n",
    "\n",
    "***So, it's clear to see that the highest score is in chapter **One** which is **Cardio**. Then we will go with classification model of chapter one, to classify the new input and got the disease name***"
   ]
  },
  {
   "cell_type": "code",
   "execution_count": null,
   "metadata": {},
   "outputs": [],
   "source": []
  },
  {
   "cell_type": "markdown",
   "metadata": {},
   "source": [
    "### Second-Step: Predict the same new input, in the trained **cardio_model**"
   ]
  },
  {
   "cell_type": "code",
   "execution_count": 12,
   "metadata": {},
   "outputs": [
    {
     "data": {
      "text/plain": [
       "Index(['Disease', 'Description', 'Unnamed: 2'], dtype='object')"
      ]
     },
     "execution_count": 12,
     "metadata": {},
     "output_type": "execute_result"
    }
   ],
   "source": [
    "file_path = \"extracted_diseases_descriptions.csv\"\n",
    "df = pd.read_csv(file_path, encoding='latin1')\n",
    "df.columns"
   ]
  },
  {
   "cell_type": "code",
   "execution_count": 13,
   "metadata": {},
   "outputs": [
    {
     "data": {
      "text/plain": [
       "'asd goes preschoolers children complain feeling exertion tract infections otherwise appear children shunts growth retardation children asd seldom endocarditis complications adults manifest symptoms fatigability dyspnea exertion point limitation children auscultation reveals quality heard ics patients shunts valve pitched heard border becomes inspiration intensity indicator size shunt pitch sometimes makes hear relatively signs widely caused valve click apex valve prolapse mvp occasionally affects children asd patients defects artery auscultation reveals ejection click clubbing cyanosis become syncope hemoptysis '"
      ]
     },
     "execution_count": 13,
     "metadata": {},
     "output_type": "execute_result"
    }
   ],
   "source": [
    "def clean_text_func(text):\n",
    "    text = str(text)\n",
    "    text = text.lower()\n",
    "    # Clean the text\n",
    "    text = re.sub(r\"[^A-Za-z0-9^,!?.\\/'+]\", \" \", text)\n",
    "    text = re.sub(r\"\\+\", \" \", text)\n",
    "    text = re.sub(r\",\", \" \", text)\n",
    "    text = re.sub(r\"\\.\", \" \", text)\n",
    "    text = re.sub(r\"!\", \" \", text)\n",
    "    text = re.sub(r\"\\?\", \" \", text)\n",
    "    text = re.sub(r\"'\", \" \", text)\n",
    "    text = re.sub(r\":\", \" : \", text)\n",
    "    text = re.sub(r\"\\s{2,}\", \" \", text)\n",
    "    text = re.sub(r\"[0-9]\", \" \", text)\n",
    "    final_text = \"\"\n",
    "    for x in text.split():\n",
    "        if x not in domain_stop_word:\n",
    "            final_text = final_text + x  +\" \"\n",
    "    return final_text\n",
    "\n",
    "df['Description'] = df['Description'].apply(lambda x: clean_text_func(x))\n",
    "# df = df.drop('Unnamed: 2', axis =1)\n",
    "df.iloc[1,1]"
   ]
  },
  {
   "cell_type": "code",
   "execution_count": 53,
   "metadata": {},
   "outputs": [
    {
     "name": "stdout",
     "output_type": "stream",
     "text": [
      "[[-0.01191309 -0.01191309 -0.00993777 ... -0.01497913 -0.01497913\n",
      "  -0.01191309]\n",
      " [-0.01080966 -0.01080966 -0.00989951 ... -0.01327997 -0.01327997\n",
      "  -0.01080966]\n",
      " [-0.01090343 -0.01090343  0.06922689 ... -0.01349918 -0.01349918\n",
      "  -0.01090343]\n",
      " ...\n",
      " [-0.01073634 -0.01073634 -0.0098498  ... -0.01326124 -0.01326124\n",
      "  -0.01073634]\n",
      " [ 0.07743677  0.07743677 -0.00985335 ... -0.01368715 -0.01368715\n",
      "   0.07743677]\n",
      " [-0.0111391  -0.0111391  -0.00974006 ... -0.01352467 -0.01352467\n",
      "  -0.0111391 ]]\n"
     ]
    },
    {
     "data": {
      "text/html": [
       "<div>\n",
       "<style scoped>\n",
       "    .dataframe tbody tr th:only-of-type {\n",
       "        vertical-align: middle;\n",
       "    }\n",
       "\n",
       "    .dataframe tbody tr th {\n",
       "        vertical-align: top;\n",
       "    }\n",
       "\n",
       "    .dataframe thead th {\n",
       "        text-align: right;\n",
       "    }\n",
       "</style>\n",
       "<table border=\"1\" class=\"dataframe\">\n",
       "  <thead>\n",
       "    <tr style=\"text-align: right;\">\n",
       "      <th></th>\n",
       "      <th>abortion</th>\n",
       "      <th>abscesses</th>\n",
       "      <th>abusers</th>\n",
       "      <th>addition</th>\n",
       "      <th>adolescence</th>\n",
       "      <th>adults</th>\n",
       "      <th>affects</th>\n",
       "      <th>ages</th>\n",
       "      <th>along</th>\n",
       "      <th>among</th>\n",
       "      <th>...</th>\n",
       "      <th>vasculature</th>\n",
       "      <th>vegetating</th>\n",
       "      <th>vsd</th>\n",
       "      <th>vsds</th>\n",
       "      <th>weakness</th>\n",
       "      <th>weeks</th>\n",
       "      <th>widely</th>\n",
       "      <th>widened</th>\n",
       "      <th>workload</th>\n",
       "      <th>years</th>\n",
       "    </tr>\n",
       "  </thead>\n",
       "  <tbody>\n",
       "    <tr>\n",
       "      <th>0</th>\n",
       "      <td>0.000000</td>\n",
       "      <td>0.000000</td>\n",
       "      <td>0.0</td>\n",
       "      <td>0.0838</td>\n",
       "      <td>0.000000</td>\n",
       "      <td>0.000000</td>\n",
       "      <td>0.000000</td>\n",
       "      <td>0.000000</td>\n",
       "      <td>0.0838</td>\n",
       "      <td>0.0</td>\n",
       "      <td>...</td>\n",
       "      <td>0.0838</td>\n",
       "      <td>0.0</td>\n",
       "      <td>0.670404</td>\n",
       "      <td>0.167601</td>\n",
       "      <td>0.0</td>\n",
       "      <td>0.0</td>\n",
       "      <td>0.070231</td>\n",
       "      <td>0.000000</td>\n",
       "      <td>0.000000</td>\n",
       "      <td>0.000000</td>\n",
       "    </tr>\n",
       "    <tr>\n",
       "      <th>1</th>\n",
       "      <td>0.000000</td>\n",
       "      <td>0.000000</td>\n",
       "      <td>0.0</td>\n",
       "      <td>0.0000</td>\n",
       "      <td>0.000000</td>\n",
       "      <td>0.088654</td>\n",
       "      <td>0.105782</td>\n",
       "      <td>0.000000</td>\n",
       "      <td>0.0000</td>\n",
       "      <td>0.0</td>\n",
       "      <td>...</td>\n",
       "      <td>0.0000</td>\n",
       "      <td>0.0</td>\n",
       "      <td>0.000000</td>\n",
       "      <td>0.000000</td>\n",
       "      <td>0.0</td>\n",
       "      <td>0.0</td>\n",
       "      <td>0.088654</td>\n",
       "      <td>0.000000</td>\n",
       "      <td>0.000000</td>\n",
       "      <td>0.000000</td>\n",
       "    </tr>\n",
       "    <tr>\n",
       "      <th>2</th>\n",
       "      <td>0.000000</td>\n",
       "      <td>0.000000</td>\n",
       "      <td>0.0</td>\n",
       "      <td>0.0000</td>\n",
       "      <td>0.287551</td>\n",
       "      <td>0.000000</td>\n",
       "      <td>0.000000</td>\n",
       "      <td>0.000000</td>\n",
       "      <td>0.0000</td>\n",
       "      <td>0.0</td>\n",
       "      <td>...</td>\n",
       "      <td>0.0000</td>\n",
       "      <td>0.0</td>\n",
       "      <td>0.000000</td>\n",
       "      <td>0.000000</td>\n",
       "      <td>0.0</td>\n",
       "      <td>0.0</td>\n",
       "      <td>0.000000</td>\n",
       "      <td>0.000000</td>\n",
       "      <td>0.000000</td>\n",
       "      <td>0.000000</td>\n",
       "    </tr>\n",
       "    <tr>\n",
       "      <th>3</th>\n",
       "      <td>0.000000</td>\n",
       "      <td>0.000000</td>\n",
       "      <td>0.0</td>\n",
       "      <td>0.0000</td>\n",
       "      <td>0.000000</td>\n",
       "      <td>0.104927</td>\n",
       "      <td>0.000000</td>\n",
       "      <td>0.000000</td>\n",
       "      <td>0.0000</td>\n",
       "      <td>0.0</td>\n",
       "      <td>...</td>\n",
       "      <td>0.0000</td>\n",
       "      <td>0.0</td>\n",
       "      <td>0.000000</td>\n",
       "      <td>0.000000</td>\n",
       "      <td>0.0</td>\n",
       "      <td>0.0</td>\n",
       "      <td>0.000000</td>\n",
       "      <td>0.125199</td>\n",
       "      <td>0.125199</td>\n",
       "      <td>0.000000</td>\n",
       "    </tr>\n",
       "    <tr>\n",
       "      <th>4</th>\n",
       "      <td>0.102258</td>\n",
       "      <td>0.102258</td>\n",
       "      <td>0.0</td>\n",
       "      <td>0.0000</td>\n",
       "      <td>0.000000</td>\n",
       "      <td>0.000000</td>\n",
       "      <td>0.000000</td>\n",
       "      <td>0.102258</td>\n",
       "      <td>0.0000</td>\n",
       "      <td>0.0</td>\n",
       "      <td>...</td>\n",
       "      <td>0.0000</td>\n",
       "      <td>0.0</td>\n",
       "      <td>0.000000</td>\n",
       "      <td>0.000000</td>\n",
       "      <td>0.0</td>\n",
       "      <td>0.0</td>\n",
       "      <td>0.000000</td>\n",
       "      <td>0.000000</td>\n",
       "      <td>0.000000</td>\n",
       "      <td>0.102258</td>\n",
       "    </tr>\n",
       "  </tbody>\n",
       "</table>\n",
       "<p>5 rows × 310 columns</p>\n",
       "</div>"
      ],
      "text/plain": [
       "   abortion  abscesses  abusers  addition  adolescence    adults   affects  \\\n",
       "0  0.000000   0.000000      0.0    0.0838     0.000000  0.000000  0.000000   \n",
       "1  0.000000   0.000000      0.0    0.0000     0.000000  0.088654  0.105782   \n",
       "2  0.000000   0.000000      0.0    0.0000     0.287551  0.000000  0.000000   \n",
       "3  0.000000   0.000000      0.0    0.0000     0.000000  0.104927  0.000000   \n",
       "4  0.102258   0.102258      0.0    0.0000     0.000000  0.000000  0.000000   \n",
       "\n",
       "       ages   along  among  ...  vasculature  vegetating       vsd      vsds  \\\n",
       "0  0.000000  0.0838    0.0  ...       0.0838         0.0  0.670404  0.167601   \n",
       "1  0.000000  0.0000    0.0  ...       0.0000         0.0  0.000000  0.000000   \n",
       "2  0.000000  0.0000    0.0  ...       0.0000         0.0  0.000000  0.000000   \n",
       "3  0.000000  0.0000    0.0  ...       0.0000         0.0  0.000000  0.000000   \n",
       "4  0.102258  0.0000    0.0  ...       0.0000         0.0  0.000000  0.000000   \n",
       "\n",
       "   weakness  weeks    widely   widened  workload     years  \n",
       "0       0.0    0.0  0.070231  0.000000  0.000000  0.000000  \n",
       "1       0.0    0.0  0.088654  0.000000  0.000000  0.000000  \n",
       "2       0.0    0.0  0.000000  0.000000  0.000000  0.000000  \n",
       "3       0.0    0.0  0.000000  0.125199  0.125199  0.000000  \n",
       "4       0.0    0.0  0.000000  0.000000  0.000000  0.102258  \n",
       "\n",
       "[5 rows x 310 columns]"
      ]
     },
     "execution_count": 53,
     "metadata": {},
     "output_type": "execute_result"
    }
   ],
   "source": [
    "X_train = df.Description\n",
    "y_train = df.Disease\n",
    "\n",
    "cv1 = TfidfVectorizer()\n",
    "X_train_cv1 = cv1.fit_transform(X_train)\n",
    "pd_cv1 = pd.DataFrame(X_train_cv1.toarray(), columns=cv1.get_feature_names_out())\n",
    "\n",
    "cardio_model_lr = LogisticRegression()\n",
    "cardio_model_lr.fit(X_train_cv1, y_train)\n",
    "\n",
    "print(cardio_model_lr.coef_)\n",
    "\n",
    "pd_cv1.head()"
   ]
  },
  {
   "cell_type": "code",
   "execution_count": 63,
   "metadata": {},
   "outputs": [],
   "source": [
    "X_test = \"\"\"Fatigue, especially during physical activity\n",
    "Shortness of breath on exertion\n",
    "Occasional chest discomfort\n",
    "Palpitations\n",
    "History of frequent respiratory infections in childhood\n",
    "Audible heart murmur during examination\n",
    ".\"\"\"\n",
    "# \"Sharp chest pain that worsens with deep breaths or lying down, easing when sitting upright. Symptoms also include fever and fatigue.\"\n",
    "cleaned_text = clean_text_func(X_test)\n",
    "\n",
    "X_test_cv3  = cv1.transform([cleaned_text])\n",
    "y_pred_cv3 = cardio_model_lr.predict(X_test_cv3)"
   ]
  },
  {
   "cell_type": "code",
   "execution_count": 65,
   "metadata": {},
   "outputs": [
    {
     "name": "stdout",
     "output_type": "stream",
     "text": [
      "['MYOCARDITIS']\n"
     ]
    }
   ],
   "source": [
    "print(y_pred_cv3)\n",
    "disease_name = y_pred_cv3\n"
   ]
  },
  {
   "cell_type": "markdown",
   "metadata": {},
   "source": [
    "Symptoms include cyanosis, difficulty breathing, fainting spells, and growth retardation. Additional signs are clubbing, squatting posture, and developmental delays. : TOF\n",
    "\n",
    "Signs include heart murmurs, poor weight gain, respiratory distress, and frequent infections. Severe cases show signs of heart failure.: PDA"
   ]
  },
  {
   "cell_type": "code",
   "execution_count": 18,
   "metadata": {},
   "outputs": [
    {
     "name": "stderr",
     "output_type": "stream",
     "text": [
      "Both `max_new_tokens` (=100) and `max_length`(=150) seem to have been set. `max_new_tokens` will take precedence. Please refer to the documentation for more information. (https://huggingface.co/docs/transformers/main/en/main_classes/text_generation)\n"
     ]
    },
    {
     "name": "stdout",
     "output_type": "stream",
     "text": [
      " asd goes undetected preschoolers children complain feeling tired exertion tract infections otherwise appear healthy children shunts growth retardation children asd seldom endocarditis complications adults manifest pronounced symptoms fatigability dyspnea exertion point limitation.\n"
     ]
    }
   ],
   "source": [
    "from transformers import pipeline\n",
    "summarizer = pipeline(\"summarization\", model=\"facebook/bart-large-cnn\")\n",
    "\n",
    "text = \"asd goes undetected preschoolers children complain feeling tired exertion tract infections otherwise appear healthy children shunts growth retardation children asd seldom endocarditis complications adults manifest pronounced symptoms fatigability dyspnea exertion point limitation children auscultation reveals midsystolic murmur quality heard third ics patients shunts tricuspid valve pitched diastolic murmur heard sternal border becomes pronounced inspiration murmur intensity indicator size shunt pitch sometimes makes hear gradient relatively murmur detectable signs fixed widely split caused delayed closure pulmonic valve systolic click systolic murmur apex valve prolapse mvp occasionally affects children asd patients uncorrected defects fixed artery auscultation reveals accentuated ejection click audible clubbing cyanosis become syncope hemoptysis\"\n",
    "summary = summarizer(text, max_new_tokens=100, max_length=150, min_length=40, do_sample=True)\n",
    "print(summary[0]['summary_text'])\n"
   ]
  }
 ],
 "metadata": {
  "interpreter": {
   "hash": "e20053a6a21f60b20031b0e753dd017cb749c39f38e8781debb23d87a774e1c7"
  },
  "kernelspec": {
   "display_name": "Python 3 (ipykernel)",
   "language": "python",
   "name": "python3"
  },
  "language_info": {
   "codemirror_mode": {
    "name": "ipython",
    "version": 3
   },
   "file_extension": ".py",
   "mimetype": "text/x-python",
   "name": "python",
   "nbconvert_exporter": "python",
   "pygments_lexer": "ipython3",
   "version": "3.11.9"
  }
 },
 "nbformat": 4,
 "nbformat_minor": 4
}
